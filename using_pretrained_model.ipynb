{
  "nbformat": 4,
  "nbformat_minor": 0,
  "metadata": {
    "colab": {
      "provenance": []
    },
    "kernelspec": {
      "name": "python3",
      "display_name": "Python 3"
    },
    "language_info": {
      "name": "python"
    }
  },
  "cells": [
    {
      "cell_type": "code",
      "execution_count": null,
      "metadata": {
        "id": "x7oHBWriwbJ2"
      },
      "outputs": [],
      "source": [
        "import tensorflow\n",
        "from tensorflow import keras\n",
        "from keras.applications.resnet50 import ResNet50\n",
        "from keras.applications.resnet50 import preprocess_input,decode_predictions\n",
        "import numpy as np"
      ]
    },
    {
      "cell_type": "code",
      "source": [
        "model =ResNet50(weights='imagenet')"
      ],
      "metadata": {
        "id": "3-JYAyPAxDKM"
      },
      "execution_count": null,
      "outputs": []
    },
    {
      "cell_type": "code",
      "source": [
        "img=keras.utils.load_img('leopard.jpg',target_size=(224,224))\n",
        "x=keras.utils.img_to_array(img)\n",
        "x=np.expand_dims(x,axis=0) #Turns x.shape from (224, 224, 3) → (1, 224, 224, 3), so it can be processed as a batch of one\n",
        "x=preprocess_input(x)#Converts RGB to BGR as ResNet50 was trained with images in BGR channel order rather than RGB.\n",
        "\n",
        "pred=model.predict(x)\n",
        "# decode the results into a list of tuples (class, description, probability)\n",
        "print('predicted:',decode_predictions(pred,top=3)[0])"
      ],
      "metadata": {
        "colab": {
          "base_uri": "https://localhost:8080/"
        },
        "id": "KnbrPHBNxOnb",
        "outputId": "2004284b-8ead-4e52-d315-a054ac9d4eeb"
      },
      "execution_count": null,
      "outputs": [
        {
          "output_type": "stream",
          "name": "stdout",
          "text": [
            "\u001b[1m1/1\u001b[0m \u001b[32m━━━━━━━━━━━━━━━━━━━━\u001b[0m\u001b[37m\u001b[0m \u001b[1m1s\u001b[0m 602ms/step\n",
            "predicted: [('n02128385', 'leopard', np.float32(0.5694713)), ('n02128925', 'jaguar', np.float32(0.26013705)), ('n02128757', 'snow_leopard', np.float32(0.15235242))]\n"
          ]
        }
      ]
    },
    {
      "cell_type": "code",
      "source": [
        "import keras\n",
        "from keras.applications.vgg16 import VGG16\n",
        "from keras.applications.vgg16 import preprocess_input\n",
        "import numpy as np\n",
        "\n",
        "model = VGG16(weights='imagenet', include_top=True)\n",
        "\n",
        "img_path = 'fox.jpg'\n",
        "img = keras.utils.load_img(img_path, target_size=(224, 224))\n",
        "x = keras.utils.img_to_array(img)\n",
        "x = np.expand_dims(x, axis=0)\n",
        "x = preprocess_input(x)\n",
        "\n",
        "features = model.predict(x)"
      ],
      "metadata": {
        "colab": {
          "base_uri": "https://localhost:8080/"
        },
        "id": "w70iio8D05sq",
        "outputId": "a76737a4-f66f-498b-8cc9-d11b6141386e"
      },
      "execution_count": null,
      "outputs": [
        {
          "output_type": "stream",
          "name": "stdout",
          "text": [
            "\u001b[1m1/1\u001b[0m \u001b[32m━━━━━━━━━━━━━━━━━━━━\u001b[0m\u001b[37m\u001b[0m \u001b[1m1s\u001b[0m 1s/step\n"
          ]
        }
      ]
    },
    {
      "cell_type": "code",
      "source": [
        "print('Predicted:', decode_predictions(features, top=3)[0])"
      ],
      "metadata": {
        "colab": {
          "base_uri": "https://localhost:8080/"
        },
        "id": "1jw9bpb21MoM",
        "outputId": "cf3a2951-1350-4c41-c164-83b54c6871a6"
      },
      "execution_count": null,
      "outputs": [
        {
          "output_type": "stream",
          "name": "stdout",
          "text": [
            "Predicted: [('n02119789', 'kit_fox', np.float32(0.5186341)), ('n02119022', 'red_fox', np.float32(0.44300836)), ('n02120505', 'grey_fox', np.float32(0.036992908))]\n"
          ]
        }
      ]
    },
    {
      "cell_type": "code",
      "source": [
        "# refer to-  https://keras.io/api/applications/"
      ],
      "metadata": {
        "id": "4qWawL6D1ZG_"
      },
      "execution_count": null,
      "outputs": []
    }
  ]
}